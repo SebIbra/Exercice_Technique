{
 "cells": [
  {
   "cell_type": "markdown",
   "metadata": {},
   "source": [
    "# QUESTION 5"
   ]
  },
  {
   "cell_type": "markdown",
   "metadata": {},
   "source": [
    "Supposons avoir observé N entreprises avec chacun leur notation à t=0 $n_i^0$ et $n_i$ à t = 1. On peut alors calculer la probabilité empirique de passage d'une notation $i$ à une notation $j$ que l'on notera $\\hat{P}_{i,j}$. \n",
    "\n",
    "*(Nombre d'entreprises ayant la notation i en t = 0 et j en t = 1)/(Nombre d'entreprises ayant la notation i en t = 0)*\n",
    "\n",
    "Le modèle nous fournit aussi une valeur théorique qui est $P(n=j|n^0 = i, X)$, fonction de $X$ et de $\\rho$, calculée dans la question 2. \n",
    "\n",
    "Ainsi, on peut chercher à trouver les meilleurs paramètres $\\rho, X$ de sorte que les probabilités empiriques collent le mieux aux probabilités théoriques. En minimisant une somme de moindres carrés, on peut chercher donc $\\rho, X$ sous la forme : \n",
    "\n",
    "\n",
    "$\\rho, X = argmin_{\\rho', X'} \\sum_{i,j \\in [0,2]} (\\hat{P}_{i,j} - P(n=j|n^0 = i, X'))^2 $ \n"
   ]
  }
 ],
 "metadata": {
  "kernelspec": {
   "display_name": "Python 3",
   "language": "python",
   "name": "python3"
  },
  "language_info": {
   "codemirror_mode": {
    "name": "ipython",
    "version": 3
   },
   "file_extension": ".py",
   "mimetype": "text/x-python",
   "name": "python",
   "nbconvert_exporter": "python",
   "pygments_lexer": "ipython3",
   "version": "3.8.5"
  }
 },
 "nbformat": 4,
 "nbformat_minor": 4
}
