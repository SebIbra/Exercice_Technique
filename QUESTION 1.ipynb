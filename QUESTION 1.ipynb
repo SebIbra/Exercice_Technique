{
 "cells": [
  {
   "cell_type": "markdown",
   "metadata": {},
   "source": [
    "# QUESTION 1"
   ]
  },
  {
   "cell_type": "markdown",
   "metadata": {},
   "source": [
    "**On suppose pour simplifier les notations notons que $C_{i,-1} = 0$ pour tout $i$**\n",
    "\n",
    "Il y a 2 méthodes possibles pour résoudre cette question, sachant qu'on ne conditionne pas par X, mais seulement pas la note initiale de l'individu. \n",
    "\n",
    "* La plus simple : utiliser la matrice M de l'énoncé qui correspond à la probabilité de passer de l'état $n_i^0$ à $t = 0$, à l'état $n_i$ à $t = 1$ an. On obtient alors directement $\\mathbb{P}(n_i = k | n_i^0) = M_{n_i^0,k}$ \n",
    "* En appliquant la définition avec la matrice $C$. \n",
    "\n",
    "Par définition : \n",
    "$\\mathbb{P}(n_i = k | n_i^0) = P(C_{n_i^0,k - 1} \\leq 1 - \\Phi(Z_i) \\leq C_{n_i^0,k} | n_i^0)$\n",
    "\n",
    "La variable $Z_i$ suit une loi $N(0,1)$ de fonction de répartition $\\Phi$. Par conséquent $U = \\Phi(Z_i)$ suit une loi uniforme sur $[0,1]$ et il en est de même pour $V = 1-U$. \n",
    "  \n",
    "  Ainsi on a : $P(C_{n_i^0,k - 1} \\leq 1 - \\Phi(Z_i) \\leq C_{n_i^0,k} | n_i^0) = P(C_{n_i^0,k - 1} \\leq V \\leq C_{n_i^0,k} | n_i^0) = C_{n_i^0,k} - C_{n_i^0,k - 1} = M_{n_i^0,k}$ par définition de M  "
   ]
  }
 ],
 "metadata": {
  "kernelspec": {
   "display_name": "Python 3",
   "language": "python",
   "name": "python3"
  },
  "language_info": {
   "codemirror_mode": {
    "name": "ipython",
    "version": 3
   },
   "file_extension": ".py",
   "mimetype": "text/x-python",
   "name": "python",
   "nbconvert_exporter": "python",
   "pygments_lexer": "ipython3",
   "version": "3.8.5"
  }
 },
 "nbformat": 4,
 "nbformat_minor": 4
}
