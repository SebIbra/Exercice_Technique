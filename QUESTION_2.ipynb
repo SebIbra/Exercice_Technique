{
 "cells": [
  {
   "cell_type": "markdown",
   "metadata": {},
   "source": [
    "# QUESTION 2"
   ]
  },
  {
   "cell_type": "markdown",
   "metadata": {},
   "source": [
    "**On suppose pour simplifier les notations notons que $C_{i,-1} = 0$ pour tout $i$**\n",
    "\n",
    "Dans cette question, comme on conditionne par X, on ne peut plus utiliser la matrice M directement. Il faut donc appliquer la définition.\n",
    "\n",
    "\n",
    "$\\mathbb{P}(n_i = k | n_i^0, X) = P(C_{n_i^0,k - 1} \\leq 1 - \\Phi(Z_i) \\leq C_{n_i^0,k} | n_i^0, X) =  P(C_{n_i^0,k - 1} \\leq \\Phi(-Z_i) \\leq C_{n_i^0,k} | n_i^0, X)$  \n",
    "\n",
    "(la 2e égalité venant de la symétrie de la fonction de répartition de la loi normale)\n",
    "\n",
    "Quand on conditionne par rapport à $X$, $X$ est considéré comme \"constant\". \n",
    "\n",
    "On peut donc réecrire l'égalité différemment. Comme $\\Phi$ est strictement croissante, sa fonction de répartition inverse $\\Phi^{-1}$ l'est aussi et :\n",
    "\n",
    "$\\mathbb{P}(n_i = k | n_i^0, X) =  P(\\Phi^{-1}(C_{n_i^0,k - 1}) \\leq -Z_i \\leq \\Phi^{-1}(C_{n_i^0,k}) | n_i^0, X)$\n",
    "\n",
    "En utilisant l'expression de $Z_i$ en fonction de $X, \\epsilon_i$ on a : \n",
    "\n",
    "$\\mathbb{P}(n_i = k | n_i^0, X) $\n",
    "\n",
    "\n",
    "= $P(\\frac{1}{\\sqrt{1-\\rho}}(\\Phi^{-1}(C_{n_i^0,k - 1}) + \\sqrt{\\rho}X) \\leq -\\epsilon_i \\leq \\frac{1}{\\sqrt{1-\\rho}}(\\Phi^{-1}(C_{n_i^0,k}) + \\sqrt{\\rho}X) | n_i^0, X) $ \n",
    "\n",
    "= $P(\\frac{1}{\\sqrt{1-\\rho}}(\\Phi^{-1}(C_{n_i^0,k - 1}) + \\sqrt{\\rho}X) \\leq \\epsilon_i \\leq \\frac{1}{\\sqrt{1-\\rho}}(\\Phi^{-1}(C_{n_i^0,k}) + \\sqrt{\\rho}X) | n_i^0, X) $ $ \\text{ ( } \\epsilon_i \\text { et } -\\epsilon_i $ ont la même loi) \n",
    "\n",
    "= $P(\\Phi(\\frac{1}{\\sqrt{1-\\rho}}(\\Phi^{-1}(C_{n_i^0,k - 1}) + \\sqrt{\\rho}X)) \\leq \\Phi(\\epsilon_i) \\leq \\Phi(\\frac{1}{\\sqrt{1-\\rho}}(\\Phi^{-1}(C_{n_i^0,k}) + \\sqrt{\\rho}X)) | n_i^0, X) $ $ \\text{  ( } \\Phi$ est croissante) \n",
    "\n",
    "= $\\Phi(\\frac{1}{\\sqrt{1-\\rho}}(\\Phi^{-1}(C_{n_i^0,k}) + \\sqrt{\\rho}X)) - \\Phi(\\frac{1}{\\sqrt{1-\\rho}}(\\Phi^{-1}(C_{n_i^0,k - 1}) + \\sqrt{\\rho}X)) $ $ \\text{     ( } \\Phi(\\epsilon_i)$ suit une loi uniforme) \n",
    "\n",
    "\n",
    "Pour $k = 1$ l'expression se simplifie en remarquant que $C_{n_i^0,-1} = 0$ en $\\Phi(\\frac{1}{\\sqrt{1-\\rho}}(\\Phi^{-1}(C_{n_i^0,k}) + \\sqrt{\\rho}X))$"
   ]
  }
 ],
 "metadata": {
  "kernelspec": {
   "display_name": "Python 3",
   "language": "python",
   "name": "python3"
  },
  "language_info": {
   "codemirror_mode": {
    "name": "ipython",
    "version": 3
   },
   "file_extension": ".py",
   "mimetype": "text/x-python",
   "name": "python",
   "nbconvert_exporter": "python",
   "pygments_lexer": "ipython3",
   "version": "3.8.5"
  }
 },
 "nbformat": 4,
 "nbformat_minor": 4
}
