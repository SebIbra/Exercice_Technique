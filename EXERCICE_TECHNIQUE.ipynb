{
 "cells": [
  {
   "cell_type": "markdown",
   "metadata": {},
   "source": [
    "# Question 1"
   ]
  },
  {
   "cell_type": "markdown",
   "metadata": {},
   "source": [
    "**On suppose pour simplifier les notations que $C_{i,-1} = 0$ pour tout $i$**\n",
    "\n",
    "Il y a 2 méthodes possibles pour résoudre cette question, sachant qu'on ne conditionne pas par X, mais seulement pas la note initiale de l'individu. \n",
    "\n",
    "* La plus simple : utiliser la matrice M de l'énoncé qui correspond à la probabilité de passer de l'état $n_i^0$ à $t = 0$, à l'état $n_i$ à $t = 1$ an. On obtient alors directement $\\mathbb{P}(n_i = k | n_i^0) = M_{n_i^0,k}$ \n",
    "* En appliquant la définition avec la matrice $C$. \n",
    "\n",
    "Par définition : \n",
    "$\\mathbb{P}(n_i = k | n_i^0) = P(C_{n_i^0,k - 1} \\leq 1 - \\Phi(Z_i) \\leq C_{n_i^0,k} | n_i^0)$\n",
    "\n",
    "La variable $Z_i$ suit une loi $N(0,1)$ de fonction de répartition $\\Phi$. Par conséquent $U = \\Phi(Z_i)$ suit une loi uniforme sur $[0,1]$ et il en est de même pour $V = 1-U$. \n",
    "  \n",
    "  Ainsi on a : $P(C_{n_i^0,k - 1} \\leq 1 - \\Phi(Z_i) \\leq C_{n_i^0,k} | n_i^0) = P(C_{n_i^0,k - 1} \\leq V \\leq C_{n_i^0,k} | n_i^0) = C_{n_i^0,k} - C_{n_i^0,k - 1} = M_{n_i^0,k}$ par définition de M  "
   ]
  },
  {
   "cell_type": "markdown",
   "metadata": {},
   "source": [
    "# Question 2"
   ]
  },
  {
   "cell_type": "markdown",
   "metadata": {},
   "source": [
    "**On suppose pour simplifier les notations que $C_{i,-1} = 0$ pour tout $i$**\n",
    "\n",
    "Dans cette question, comme on conditionne par X, on ne peut plus utiliser la matrice M directement. Il faut donc appliquer la définition.\n",
    "\n",
    "\n",
    "$\\mathbb{P}(n_i = k | n_i^0, X) = P(C_{n_i^0,k - 1} \\leq 1 - \\Phi(Z_i) \\leq C_{n_i^0,k} | n_i^0, X) =  P(C_{n_i^0,k - 1} \\leq \\Phi(-Z_i) \\leq C_{n_i^0,k} | n_i^0, X)$  \n",
    "\n",
    "(la 2e égalité venant de la symétrie de la fonction de répartition de la loi normale)\n",
    "\n",
    "Quand on conditionne par rapport à $X$, $X$ est considéré comme \"constant\". \n",
    "\n",
    "On peut donc réecrire l'égalité différemment. Comme $\\Phi$ est strictement croissante, sa fonction de répartition inverse $\\Phi^{-1}$ l'est aussi et :\n",
    "\n",
    "$\\mathbb{P}(n_i = k | n_i^0, X) =  P(\\Phi^{-1}(C_{n_i^0,k - 1}) \\leq -Z_i \\leq \\Phi^{-1}(C_{n_i^0,k}) | n_i^0, X)$\n",
    "\n",
    "En utilisant l'expression de $Z_i$ en fonction de $X, \\epsilon_i$ on a : \n",
    "\n",
    "$\\mathbb{P}(n_i = k | n_i^0, X) $\n",
    "\n",
    "\n",
    "= $P(\\frac{1}{\\sqrt{1-\\rho}}(\\Phi^{-1}(C_{n_i^0,k - 1}) + \\sqrt{\\rho}X) \\leq -\\epsilon_i \\leq \\frac{1}{\\sqrt{1-\\rho}}(\\Phi^{-1}(C_{n_i^0,k}) + \\sqrt{\\rho}X) | n_i^0, X) $ \n",
    "\n",
    "= $P(\\frac{1}{\\sqrt{1-\\rho}}(\\Phi^{-1}(C_{n_i^0,k - 1}) + \\sqrt{\\rho}X) \\leq \\epsilon_i \\leq \\frac{1}{\\sqrt{1-\\rho}}(\\Phi^{-1}(C_{n_i^0,k}) + \\sqrt{\\rho}X) | n_i^0, X) $ $ \\text{ ( } \\epsilon_i \\text { et } -\\epsilon_i $ ont la même loi) \n",
    "\n",
    "= $P(\\Phi(\\frac{1}{\\sqrt{1-\\rho}}(\\Phi^{-1}(C_{n_i^0,k - 1}) + \\sqrt{\\rho}X)) \\leq \\Phi(\\epsilon_i) \\leq \\Phi(\\frac{1}{\\sqrt{1-\\rho}}(\\Phi^{-1}(C_{n_i^0,k}) + \\sqrt{\\rho}X)) | n_i^0, X) $ $ \\text{  ( } \\Phi$ est croissante) \n",
    "\n",
    "= $\\Phi(\\frac{1}{\\sqrt{1-\\rho}}(\\Phi^{-1}(C_{n_i^0,k}) + \\sqrt{\\rho}X)) - \\Phi(\\frac{1}{\\sqrt{1-\\rho}}(\\Phi^{-1}(C_{n_i^0,k - 1}) + \\sqrt{\\rho}X)) $ $ \\text{     ( } \\Phi(\\epsilon_i)$ suit une loi uniforme) \n",
    "\n",
    "\n",
    "Pour $k = 1$ l'expression se simplifie en remarquant que $C_{n_i^0,-1} = 0$ en $\\Phi(\\frac{1}{\\sqrt{1-\\rho}}(\\Phi^{-1}(C_{n_i^0,k}) + \\sqrt{\\rho}X))$"
   ]
  },
  {
   "cell_type": "markdown",
   "metadata": {},
   "source": [
    "# Question 3 "
   ]
  },
  {
   "cell_type": "code",
   "execution_count": 17,
   "metadata": {
    "scrolled": true
   },
   "outputs": [
    {
     "name": "stdout",
     "output_type": "stream",
     "text": [
      "{'valeur théorique': 0.854565085795775, 'valeur empirique': 0.8601}\n",
      "-------------------------------------------------------------------------------------------\n",
      "[0, 1, 1, 2, 2, 1, 1, 1, 2, 0, 1, 1, 2, 1, 1, 0, 2, 1, 0, 1, 0, 1, 0, 2, 2, 0, 0, 1, 2, 1, 2, 1, 0, 0, 2]\n",
      "-------------------------------------------------------------------------------------------\n",
      "[0, 1, 1, 2, 2, 0, 1, 1, 2, 0, 1, 1, 2, 0, 0, 0, 2, 1, 0, 0, 0, 1, 0, 2, 2, 0, 0, 0, 2, 0, 2, 1, 0, 0, 2]\n"
     ]
    }
   ],
   "source": [
    "import numpy as np\n",
    "from scipy.stats import norm\n",
    "from numpy import sqrt, array, exp\n",
    "\n",
    "def pdf(x) : \n",
    "    return norm.pdf(x) ##p(x)\n",
    "\n",
    "def cdf(x) : \n",
    "    return norm.cdf(x) ##Phi \n",
    "\n",
    "def ppf(x) : \n",
    "    return norm.ppf(x) ##Phi^-1\n",
    "\n",
    "def randn(mu = 0, sigma = 1, size = 1) : \n",
    "    return mu + sqrt(sigma)*np.random.randn(size) ## N(0,1)\n",
    "\n",
    "\n",
    "M = array([[0.8,0.1,0.1],[0.2,0.75,0.05],[0,0,1]])\n",
    "C = np.cumsum(M,axis = 1)\n",
    "\n",
    "\n",
    "X = 1\n",
    "rho = 0.5\n",
    "N = 1000\n",
    "\n",
    "\n",
    "\n",
    "##Simuler une note donnée pour une entreprise\n",
    "\n",
    "\n",
    "def simulation_note(n0,X,rho): \n",
    "    Z = sqrt(rho)*X + sqrt(1-rho)*randn() ## Simulation de Z \n",
    "    phi_Z = 1 - cdf(Z) ##Simulation de 1 - phi(Z)\n",
    "    return np.where(phi_Z<=C[n0])[0][0]  ## On récupère le premier indice de la ligne n0 qui vérifie phi_Z <= C[n0]\n",
    "\n",
    "\n",
    "\n",
    "\n",
    "##Simuler les notes à 1 an sachant un ensemble de notes à t = 0\n",
    "\n",
    "def simulation_notes(notes,X,rho) : \n",
    "    Zs = sqrt(rho)*X + sqrt(1-rho)*randn(size = len(notes))\n",
    "    phi_Zs = 1 - cdf(Zs)\n",
    "    phi_Zs = phi_Zs.reshape((len(notes),1))\n",
    "    return np.argmax(phi_Zs<=C[notes], axis = 1)\n",
    "\n",
    "\n",
    "\n",
    "\n",
    "\n",
    "\n",
    "##Juste pour vérifier les calculs de la question 2\n",
    "\n",
    "def verification_question2(n0,n1,X,rho ):\n",
    "    Ci = C[n0]\n",
    "\n",
    "    ### Calcul théorique de la probabilité via les formules de la qustion 2 \n",
    "    theorique_k = cdf(1/sqrt(1-rho)*(ppf(Ci[n1]) + sqrt(rho)*X))\n",
    "    theorique_k1 = 0 if n1 == 0 else cdf(1/sqrt(1-rho)*(ppf(Ci[n1-1]) + sqrt(rho)*X))\n",
    "    theorique = theorique_k - theorique_k1\n",
    "\n",
    "    ### Calcul théorique de la probabilité de la question 2 via des simulations  \n",
    "    N = 10000\n",
    "    empirique = np.mean([simulation_note(n0,X,rho)==n1 for _ in range(N)])  \n",
    "\n",
    "    return {'valeur théorique' : theorique, 'valeur empirique' : empirique}\n",
    "\n",
    "print(verification_question2(1,1,X=0.1,rho = 0.5))\n",
    "\n",
    "\n",
    "print('-------------------------------------------------------------------------------------------')\n",
    "\n",
    "\n",
    "notes = np.random.randint(0,3,size = 35)\n",
    "\n",
    "\n",
    "print(list(notes))\n",
    "\n",
    "print('-------------------------------------------------------------------------------------------')\n",
    "\n",
    "print(list(simulation_notes(notes,X = 0.8, rho = 0.5)))\n"
   ]
  },
  {
   "cell_type": "markdown",
   "metadata": {},
   "source": [
    "# Question 4"
   ]
  },
  {
   "cell_type": "code",
   "execution_count": 18,
   "metadata": {},
   "outputs": [
    {
     "data": {
      "image/png": "[encoded data removed]",
      "text/plain": [
       "<Figure size 432x288 with 1 Axes>"
      ]
     },
     "metadata": {
      "needs_background": "light"
     },
     "output_type": "display_data"
    },
    {
     "data": {
      "image/png": "[encoded data removed]",
      "text/plain": [
       "<Figure size 432x288 with 1 Axes>"
      ]
     },
     "metadata": {
      "needs_background": "light"
     },
     "output_type": "display_data"
    }
   ],
   "source": [
    "import matplotlib.pyplot as plt\n",
    "\n",
    "\n",
    "def lognormale(mu = 0, sigma = 1, size = N) : \n",
    "    return exp(randn(mu,sigma,size))\n",
    "\n",
    "mu = 0\n",
    "sigma = 1\n",
    "N = 1000\n",
    "\n",
    "\n",
    "### On fixe les notes et les expositions à t = 0 pour lancer les simulations\n",
    "\n",
    "notes = np.random.randint(0,3,N)\n",
    "E = lognormale(mu,sigma,N)\n",
    "\n",
    "\n",
    "plt.hist(notes)\n",
    "plt.title('Notes')\n",
    "plt.show()\n",
    "\n",
    "plt.hist(E)\n",
    "plt.title('Expositions')\n",
    "plt.show()"
   ]
  },
  {
   "cell_type": "code",
   "execution_count": 19,
   "metadata": {
    "scrolled": false
   },
   "outputs": [
    {
     "name": "stdout",
     "output_type": "stream",
     "text": [
      "Notes et Expositions fixés : \n",
      " \n",
      "Sans parallélisation :\n",
      " 2.5339297189999996 secondes\n",
      "Quantile d'ordre 0.65  : 545.9912642294332\n",
      "\n",
      "Parallélisation :\n",
      " 0.0520143739999952 secondes\n",
      "Quantile d'ordre 0.65  : 541.2673753691835\n",
      "-------------------------------------------------------------------------------------------\n",
      "\n",
      "Notes et Expositions aléatoires : \n",
      "\n",
      "Sans parallélisation :\n",
      "3.5520332819999965 secondes\n",
      "Quantile d'ordre 0.65  : 624.8955039458425\n",
      "\n",
      "Parallélisation :\n",
      "0.07123657799999705 secondes\n",
      "Quantile d'ordre 0.65 : 625.1271442967204\n"
     ]
    }
   ],
   "source": [
    "## Calcul de une perte\n",
    "\n",
    "\n",
    "n=1000\n",
    "\n",
    "def perte_L(notes = notes, E = E, rho=rho, random_notes_Expo = False) : \n",
    "\n",
    "  ### Si l'on souhaite en réalité simuler des notes et des expositions pour chaque simulation\n",
    "\n",
    "  if random_notes_Expo == True : \n",
    "    notes = np.random.randint(0,3,N)\n",
    "    E = lognormale(mu,sigma,N)\n",
    "\n",
    "  X = randn()\n",
    "  notes_1an = simulation_notes(notes,X,rho)\n",
    "  default = array(notes_1an)==2 ### On prend en compte uniquement les entreprises en défaut\n",
    "  perte = np.dot(default,E)### On fait la somme des pertes correspondant aux entreprises en défaut\n",
    "  return perte\n",
    "\n",
    "\n",
    "import time \n",
    "nb_simulations = 10000\n",
    "percentile = 0.65\n",
    "\n",
    "### On fait 2 types de simulations \n",
    "## 1 simulation où les notes et l'exposition sont fixés(cellule du dessus et histogrammes)\n",
    "## 1 simulation où les notes et l'exposition sont aléatoires pour chaque simulation.\n",
    "\n",
    "\n",
    "\n",
    "print('Notes et Expositions fixés : \\n ')\n",
    "print('Sans parallélisation :')\n",
    "\n",
    "\n",
    "## Sans parallélisation \n",
    "\n",
    "t1 = time.process_time()\n",
    "pertes = []\n",
    "\n",
    "for i in range(nb_simulations) : \n",
    "  perte = perte_L(notes,E,rho)\n",
    "  pertes.append(perte)\n",
    "t2 = time.process_time()\n",
    "\n",
    "print(f' {t2 - t1} secondes')\n",
    "print(f\"Quantile d'ordre {percentile}  : {np.percentile(pertes,percentile*100)}\")\n",
    "\n",
    "## Avec parallélisation\n",
    "\n",
    "from multiprocessing import Pool\n",
    "\n",
    "## Fonctions qui renvoie n pertes (utile pour faire de la parallélisation)\n",
    "\n",
    "def n_pertes(params) :\n",
    "  n, notes, E, rho = params \n",
    "  return [perte_L(notes,E,rho) for _ in range(n)]\n",
    "\n",
    "print('\\nParallélisation :')\n",
    "\n",
    "t1 = time.process_time()\n",
    "\n",
    "\n",
    "PARAMS = [[n,notes,E,rho] for _ in range(8)]\n",
    "\n",
    "# On lance sur 8 coeurs\n",
    "\n",
    "pool = Pool(8)\n",
    "pertes2 = pool.map(n_pertes,PARAMS)\n",
    "\n",
    "t2 = time.process_time()\n",
    "print(f' {t2 - t1} secondes')\n",
    "print(f\"Quantile d'ordre {percentile}  : {np.percentile(pertes2,percentile*100)}\")\n",
    "\n",
    "\n",
    "\n",
    "###############\n",
    "\n",
    "print('-------------------------------------------------------------------------------------------')\n",
    "\n",
    "\n",
    "\n",
    "print('\\nNotes et Expositions aléatoires : \\n')\n",
    "print('Sans parallélisation :')\n",
    "\n",
    "## Sans parallélisation \n",
    "\n",
    "t1 = time.process_time()\n",
    "pertes = []\n",
    "\n",
    "for i in range(nb_simulations) : \n",
    "  perte = perte_L(notes,E,rho, random_notes_Expo = True)\n",
    "  pertes.append(perte)\n",
    "t2 = time.process_time()\n",
    "\n",
    "print(f'{t2 - t1} secondes')\n",
    "print(f\"Quantile d'ordre {percentile}  : {np.percentile(pertes,percentile*100)}\")\n",
    "\n",
    "## Avec parallélisation\n",
    "\n",
    "from multiprocessing import Pool\n",
    "\n",
    "## Fonctions qui renvoie n pertes (utile pour faire de la parallélisation)\n",
    "\n",
    "def n_pertes(params) :\n",
    "  n, notes, E, rho, random_notes_Expo = params \n",
    "  return [perte_L(notes,E,rho, random_notes_Expo) for _ in range(n)]\n",
    "\n",
    "print('\\nParallélisation :')\n",
    "\n",
    "t1 = time.process_time()\n",
    "\n",
    "\n",
    "PARAMS = [[n,notes,E,rho,True] for _ in range(8)]\n",
    "\n",
    "# On lance sur 8 coeurs\n",
    "\n",
    "pool = Pool(8)\n",
    "\n",
    "pertes2 = pool.map(n_pertes,PARAMS)\n",
    "\n",
    "t2 = time.process_time()\n",
    "print(f'{t2 - t1} secondes')\n",
    "print(f\"Quantile d'ordre {percentile} : {np.percentile(pertes2,percentile*100)}\")"
   ]
  },
  {
   "cell_type": "markdown",
   "metadata": {},
   "source": [
    "# Question 5"
   ]
  },
  {
   "cell_type": "markdown",
   "metadata": {},
   "source": [
    "Supposons avoir observé N entreprises avec chacun leur notation à t=0 $n_i^0$ et $n_i$ à t = 1. On peut alors calculer la probabilité empirique de passage d'une notation $i$ à une notation $j$ que l'on notera $\\hat{P}_{i,j}$. \n",
    "\n",
    "*(Nombre d'entreprises ayant la notation i en t = 0 et j en t = 1)/(Nombre d'entreprises ayant la notation i en t = 0)*\n",
    "\n",
    "Le modèle nous fournit aussi une valeur théorique qui est $P(n=j|n^0 = i, X)$, fonction de $X$ et de $\\rho$, calculée dans la question 2. \n",
    "\n",
    "Ainsi, on peut chercher à trouver les meilleurs paramètres $\\rho, X$ de sorte que les probabilités empiriques collent le mieux aux probabilités théoriques. En minimisant une somme de moindres carrés, on peut chercher donc $\\rho, X$ sous la forme : \n",
    "\n",
    "\n",
    "$\\rho, X = argmin_{\\rho', X'} \\sum_{i,j \\in [0,2]} (\\hat{P}_{i,j} - P(n=j|n^0 = i, X'))^2 $ \n",
    "\n",
    "\n"
   ]
  }
 ],
 "metadata": {
  "kernelspec": {
   "display_name": "Python 3",
   "language": "python",
   "name": "python3"
  },
  "language_info": {
   "codemirror_mode": {
    "name": "ipython",
    "version": 3
   },
   "file_extension": ".py",
   "mimetype": "text/x-python",
   "name": "python",
   "nbconvert_exporter": "python",
   "pygments_lexer": "ipython3",
   "version": "3.8.5"
  }
 },
 "nbformat": 4,
 "nbformat_minor": 4
}
